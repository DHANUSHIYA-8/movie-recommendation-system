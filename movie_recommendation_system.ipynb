{
  "nbformat": 4,
  "nbformat_minor": 0,
  "metadata": {
    "colab": {
      "provenance": [],
      "authorship_tag": "ABX9TyPo9JlKNsj9MVkdlwpvA/DI",
      "include_colab_link": true
    },
    "kernelspec": {
      "name": "python3",
      "display_name": "Python 3"
    },
    "language_info": {
      "name": "python"
    }
  },
  "cells": [
    {
      "cell_type": "markdown",
      "metadata": {
        "id": "view-in-github",
        "colab_type": "text"
      },
      "source": [
        "<a href=\"https://colab.research.google.com/github/DHANUSHIYA-8/movie-recommendation-system/blob/main/movie_recommendation_system.ipynb\" target=\"_parent\"><img src=\"https://colab.research.google.com/assets/colab-badge.svg\" alt=\"Open In Colab\"/></a>"
      ]
    },
    {
      "cell_type": "code",
      "execution_count": null,
      "metadata": {
        "colab": {
          "base_uri": "https://localhost:8080/"
        },
        "id": "t6DY_AIUT1Ci",
        "outputId": "ad22b364-9869-4940-f98c-bef082e89a6e"
      },
      "outputs": [
        {
          "output_type": "stream",
          "name": "stdout",
          "text": [
            "Top 10 movie recommendations for User 1:\n",
            "     movie_id                                   title\n",
            "285       286             English Patient, The (1996)\n",
            "287       288                           Scream (1996)\n",
            "293       294                        Liar Liar (1997)\n",
            "317       318                 Schindler's List (1993)\n",
            "356       357  One Flew Over the Cuckoo's Nest (1975)\n",
            "404       405              Mission: Impossible (1996)\n",
            "422       423       E.T. the Extra-Terrestrial (1982)\n",
            "482       483                       Casablanca (1942)\n",
            "495       496            It's a Wonderful Life (1946)\n",
            "654       655                      Stand by Me (1986)\n"
          ]
        }
      ],
      "source": [
        "import pandas as pd\n",
        "import numpy as np\n",
        "from sklearn.metrics.pairwise import cosine_similarity\n",
        "\n",
        "# Load movie data (from MovieLens 100k dataset CSVs)\n",
        "!wget -q http://files.grouplens.org/datasets/movielens/ml-100k/u.data\n",
        "!wget -q http://files.grouplens.org/datasets/movielens/ml-100k/u.item\n",
        "\n",
        "# Read ratings data\n",
        "ratings = pd.read_csv('u.data', sep='\\t', names=['user_id', 'movie_id', 'rating', 'timestamp'])\n",
        "\n",
        "# Read movie titles\n",
        "movies = pd.read_csv('u.item', sep='|', header=None, encoding='latin-1',\n",
        "                     names=['movie_id', 'title', 'release_date', 'video_release_date',\n",
        "                            'IMDb_URL', 'unknown', 'Action', 'Adventure', 'Animation',\n",
        "                            'Children', 'Comedy', 'Crime', 'Documentary', 'Drama', 'Fantasy',\n",
        "                            'Film-Noir', 'Horror', 'Musical', 'Mystery', 'Romance', 'Sci-Fi',\n",
        "                            'Thriller', 'War', 'Western'])\n",
        "\n",
        "# Create user-item rating matrix\n",
        "user_movie_matrix = ratings.pivot(index='user_id', columns='movie_id', values='rating').fillna(0)\n",
        "\n",
        "# Compute user similarity matrix (cosine similarity)\n",
        "user_similarity = cosine_similarity(user_movie_matrix)\n",
        "\n",
        "# Function: Recommend movies for a user based on user similarity (collaborative filtering)\n",
        "def recommend_movies(user_id, user_movie_matrix, user_similarity, movies, top_n=10):\n",
        "    user_idx = user_id - 1  # user_id starts at 1\n",
        "    sim_scores = user_similarity[user_idx]\n",
        "    weighted_ratings = np.dot(sim_scores, user_movie_matrix)\n",
        "    sum_sim = np.array([np.abs(sim_scores).sum()]*user_movie_matrix.shape[1])\n",
        "    predicted_ratings = weighted_ratings / sum_sim\n",
        "\n",
        "    # Exclude movies the user already rated\n",
        "    user_rated = user_movie_matrix.iloc[user_idx]\n",
        "    predicted_ratings[user_rated > 0] = 0\n",
        "\n",
        "    top_movie_indices = np.argsort(predicted_ratings)[::-1][:top_n]\n",
        "    top_movie_ids = user_movie_matrix.columns[top_movie_indices]\n",
        "\n",
        "    return movies[movies['movie_id'].isin(top_movie_ids)][['movie_id', 'title']]\n",
        "\n",
        "# Example: Recommend for user 1\n",
        "recommendations = recommend_movies(1, user_movie_matrix, user_similarity, movies)\n",
        "print(\"Top 10 movie recommendations for User 1:\")\n",
        "print(recommendations)\n"
      ]
    },
    {
      "cell_type": "code",
      "source": [
        "print(ratings.head())\n"
      ],
      "metadata": {
        "colab": {
          "base_uri": "https://localhost:8080/"
        },
        "id": "BpLTo84CX3J2",
        "outputId": "83a9e527-eadd-4eef-8b77-f578f4275cab"
      },
      "execution_count": null,
      "outputs": [
        {
          "output_type": "stream",
          "name": "stdout",
          "text": [
            "   user_id  movie_id  rating  timestamp\n",
            "0      196       242       3  881250949\n",
            "1      186       302       3  891717742\n",
            "2       22       377       1  878887116\n",
            "3      244        51       2  880606923\n",
            "4      166       346       1  886397596\n"
          ]
        }
      ]
    },
    {
      "cell_type": "code",
      "source": [
        "print(movies[['movie_id', 'title']].head())\n"
      ],
      "metadata": {
        "colab": {
          "base_uri": "https://localhost:8080/"
        },
        "id": "5HhthZsQYNan",
        "outputId": "5ed2464f-073d-4bc2-f704-1b4c15b903d6"
      },
      "execution_count": null,
      "outputs": [
        {
          "output_type": "stream",
          "name": "stdout",
          "text": [
            "   movie_id              title\n",
            "0         1   Toy Story (1995)\n",
            "1         2   GoldenEye (1995)\n",
            "2         3  Four Rooms (1995)\n",
            "3         4  Get Shorty (1995)\n",
            "4         5     Copycat (1995)\n"
          ]
        }
      ]
    },
    {
      "cell_type": "code",
      "source": [
        "print(user_movie_matrix.shape)\n"
      ],
      "metadata": {
        "colab": {
          "base_uri": "https://localhost:8080/"
        },
        "id": "x50FrGcuYX9y",
        "outputId": "3b4fd418-9c0c-4641-dd6b-e40b6252a2db"
      },
      "execution_count": null,
      "outputs": [
        {
          "output_type": "stream",
          "name": "stdout",
          "text": [
            "(943, 1682)\n"
          ]
        }
      ]
    },
    {
      "cell_type": "code",
      "source": [
        "# Define user_id\n",
        "user_id = 1\n",
        "\n",
        "# Generate recommendations\n",
        "recommendations = recommend_movies(user_id, user_movie_matrix, user_similarity, movies)\n",
        "\n",
        "# Show recommendations\n",
        "print(f\"Top 10 movie recommendations for User {user_id}:\")\n",
        "print(recommendations)\n"
      ],
      "metadata": {
        "colab": {
          "base_uri": "https://localhost:8080/"
        },
        "id": "4QgPUkNgZFeR",
        "outputId": "acd04e1f-cf7f-4180-dd04-f97ff51747c8"
      },
      "execution_count": null,
      "outputs": [
        {
          "output_type": "stream",
          "name": "stdout",
          "text": [
            "Top 10 movie recommendations for User 1:\n",
            "     movie_id                                   title\n",
            "285       286             English Patient, The (1996)\n",
            "287       288                           Scream (1996)\n",
            "293       294                        Liar Liar (1997)\n",
            "317       318                 Schindler's List (1993)\n",
            "356       357  One Flew Over the Cuckoo's Nest (1975)\n",
            "404       405              Mission: Impossible (1996)\n",
            "422       423       E.T. the Extra-Terrestrial (1982)\n",
            "482       483                       Casablanca (1942)\n",
            "495       496            It's a Wonderful Life (1946)\n",
            "654       655                      Stand by Me (1986)\n"
          ]
        }
      ]
    }
  ]
}